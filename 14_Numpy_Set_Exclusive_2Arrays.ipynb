{
 "metadata": {
  "language_info": {
   "codemirror_mode": {
    "name": "ipython",
    "version": 3
   },
   "file_extension": ".py",
   "mimetype": "text/x-python",
   "name": "python",
   "nbconvert_exporter": "python",
   "pygments_lexer": "ipython3",
   "version": "3.9.5"
  },
  "orig_nbformat": 4,
  "kernelspec": {
   "name": "python3",
   "display_name": "Python 3.9.5 64-bit"
  },
  "interpreter": {
   "hash": "65925fe26da0271e5923c739aef94a3b1e54a007f0972b7fdc791b168e3bdb8c"
  }
 },
 "nbformat": 4,
 "nbformat_minor": 2,
 "cells": [
  {
   "cell_type": "code",
   "execution_count": null,
   "metadata": {},
   "outputs": [],
   "source": [
    "'''\n",
    "@Author:Shivam Mathur\n",
    "@Date:2021-07-12\n",
    "@Last Modified by:Shivam Mathur\n",
    "@Last Modified time:2021-07-12\n",
    "@Title: Write a Python program to find Exclusive array between two arrays.\n",
    "'''"
   ]
  },
  {
   "cell_type": "code",
   "execution_count": 1,
   "metadata": {},
   "outputs": [],
   "source": [
    "import numpy as np"
   ]
  },
  {
   "cell_type": "code",
   "execution_count": 2,
   "metadata": {},
   "outputs": [],
   "source": [
    "arr1=np.array([ 0,10,20,40,60,80])\n",
    "arr2=np.array([10, 30, 40, 50, 70])"
   ]
  },
  {
   "cell_type": "code",
   "execution_count": 3,
   "metadata": {},
   "outputs": [
    {
     "output_type": "stream",
     "name": "stdout",
     "text": [
      "[ 0 20 30 50 60 70 80]\n"
     ]
    }
   ],
   "source": [
    "print(np.setxor1d(arr1,arr2))"
   ]
  }
 ]
}