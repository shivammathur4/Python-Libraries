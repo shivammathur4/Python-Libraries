{
 "metadata": {
  "language_info": {
   "codemirror_mode": {
    "name": "ipython",
    "version": 3
   },
   "file_extension": ".py",
   "mimetype": "text/x-python",
   "name": "python",
   "nbconvert_exporter": "python",
   "pygments_lexer": "ipython3",
   "version": "3.9.5"
  },
  "orig_nbformat": 4,
  "kernelspec": {
   "name": "python3",
   "display_name": "Python 3.9.5 64-bit"
  },
  "interpreter": {
   "hash": "1dd222169c481ee33fe914f451e024cc1acdd0f413b9271dc9421306fd9d9791"
  }
 },
 "nbformat": 4,
 "nbformat_minor": 2,
 "cells": [
  {
   "cell_type": "code",
   "execution_count": null,
   "metadata": {},
   "outputs": [],
   "source": [
    "'''\n",
    "@Author:Shivam Mathur\n",
    "@Date:2021-07-13\n",
    "@Last Modified by:Shivam Mathur\n",
    "@Last Modified time:2021-07-13\n",
    "@Title:Write a Python program to convert a Panda module Series to Python list and it's type."
   ]
  },
  {
   "cell_type": "code",
   "execution_count": 1,
   "metadata": {},
   "outputs": [],
   "source": [
    "import pandas as pd"
   ]
  },
  {
   "cell_type": "code",
   "execution_count": 4,
   "metadata": {},
   "outputs": [
    {
     "output_type": "stream",
     "name": "stdout",
     "text": [
      "Pandas Series and type\n0     2\n1     4\n2     6\n3     8\n4    10\ndtype: int64\n<class 'pandas.core.series.Series'>\nConvert Pandas Series to Python list\n[2, 4, 6, 8, 10]\n<class 'list'>\n"
     ]
    }
   ],
   "source": [
    "dataset = pd.Series([2, 4, 6, 8, 10])\n",
    "print(\"Pandas Series and type\")\n",
    "print(dataset)\n",
    "print(type(dataset))\n",
    "print(\"Convert Pandas Series to Python list\")\n",
    "print(dataset.tolist())\n",
    "print(type(dataset.tolist()))"
   ]
  },
  {
   "cell_type": "code",
   "execution_count": 3,
   "metadata": {},
   "outputs": [],
   "source": []
  },
  {
   "cell_type": "code",
   "execution_count": null,
   "metadata": {},
   "outputs": [],
   "source": []
  }
 ]
}