{
 "metadata": {
  "language_info": {
   "codemirror_mode": {
    "name": "ipython",
    "version": 3
   },
   "file_extension": ".py",
   "mimetype": "text/x-python",
   "name": "python",
   "nbconvert_exporter": "python",
   "pygments_lexer": "ipython3",
   "version": "3.9.5"
  },
  "orig_nbformat": 4,
  "kernelspec": {
   "name": "python3",
   "display_name": "Python 3.9.5 64-bit"
  },
  "interpreter": {
   "hash": "65925fe26da0271e5923c739aef94a3b1e54a007f0972b7fdc791b168e3bdb8c"
  }
 },
 "nbformat": 4,
 "nbformat_minor": 2,
 "cells": [
  {
   "cell_type": "code",
   "execution_count": null,
   "metadata": {},
   "outputs": [],
   "source": [
    "'''\n",
    "@Author:Shivam Mathur\n",
    "@Date:2021-07-12\n",
    "@Last Modified by:Shivam Mathur\n",
    "@Last Modified time:2021-07-12\n",
    "@Title:Write a Python program to how to add an extra column to an numpy array.\n",
    "Expected Output:\n",
    "[[ 10 20 30 100]\n",
    "[ 40 50 60 200]]\n",
    "'''"
   ]
  },
  {
   "cell_type": "code",
   "execution_count": 1,
   "metadata": {},
   "outputs": [],
   "source": [
    "import numpy as np"
   ]
  },
  {
   "cell_type": "code",
   "execution_count": 3,
   "metadata": {},
   "outputs": [],
   "source": [
    "arr1=np.arange(10,70,10).reshape(2,3)\n",
    "arr2=np.arange(100,300,100).reshape(2,1)"
   ]
  },
  {
   "cell_type": "code",
   "execution_count": 5,
   "metadata": {},
   "outputs": [
    {
     "output_type": "execute_result",
     "data": {
      "text/plain": [
       "array([[ 10,  20,  30, 100],\n",
       "       [ 40,  50,  60, 200]])"
      ]
     },
     "metadata": {},
     "execution_count": 5
    }
   ],
   "source": [
    "np.append(arr1,arr2,axis=1)"
   ]
  }
 ]
}